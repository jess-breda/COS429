{
 "cells": [
  {
   "cell_type": "code",
   "execution_count": 1,
   "metadata": {},
   "outputs": [],
   "source": [
    "import sys\n",
    "sys.path += ['layers']\n",
    "import numpy as np\n",
    "from init_layers import init_layers\n",
    "from init_model import init_model\n",
    "from inference import inference\n",
    "from loss_euclidean import loss_euclidean\n",
    "from loss_crossentropy import loss_crossentropy\n",
    "from data_utils import get_CIFAR10_data\n",
    "\n",
    "import pickle\n",
    "import matplotlib.pyplot as plt\n",
    "\n",
    "use_pcode = True\n",
    "if use_pcode:\n",
    "    # import the provided pyc implementation\n",
    "    sys.path += ['pyc_code']\n",
    "    from inference_ import inference\n",
    "    from calc_gradient_ import calc_gradient\n",
    "    from update_weights_ import update_weights\n",
    "else:\n",
    "    # import your own implementation\n",
    "    from inference import inference\n",
    "    from calc_gradient import calc_gradient\n",
    "    from update_weights import update_weights\n",
    "\n",
    "%load_ext autoreload\n",
    "%autoreload 2"
   ]
  },
  {
   "cell_type": "code",
   "execution_count": 38,
   "metadata": {},
   "outputs": [
    {
     "name": "stdout",
     "output_type": "stream",
     "text": [
      "Train data shape:  (32, 32, 3, 50000)\n",
      "Train labels shape:  (50000,)\n",
      "Test data shape:  (32, 32, 3, 10000)\n",
      "Test labels shape:  (10000,)\n"
     ]
    }
   ],
   "source": [
    "X_train, y_train, X_test, y_test = get_CIFAR10_data()"
   ]
  },
  {
   "cell_type": "code",
   "execution_count": 39,
   "metadata": {},
   "outputs": [
    {
     "name": "stderr",
     "output_type": "stream",
     "text": [
      "Clipping input data to the valid range for imshow with RGB data ([0..1] for floats or [0..255] for integers).\n"
     ]
    },
    {
     "name": "stdout",
     "output_type": "stream",
     "text": [
      "9\n"
     ]
    },
    {
     "data": {
      "image/png": "[encoded data removed]",
      "text/plain": [
       "<Figure size 640x480 with 1 Axes>"
      ]
     },
     "metadata": {},
     "output_type": "display_data"
    }
   ],
   "source": [
    "img = 1\n",
    "plt.imshow(X_train[:,:,:,img])\n",
    "print(y_train[img])"
   ]
  },
  {
   "attachments": {},
   "cell_type": "markdown",
   "metadata": {},
   "source": [
    "Simple example with linear function. Note shapes aren't correct to do backprop"
   ]
  },
  {
   "cell_type": "code",
   "execution_count": 40,
   "metadata": {},
   "outputs": [],
   "source": [
    "from fn_linear_ import fn_linear\n",
    "linear = init_layers(\"linear\", {\"num_in\": 32, \"num_out\": 10})"
   ]
  },
  {
   "cell_type": "code",
   "execution_count": 41,
   "metadata": {},
   "outputs": [
    {
     "data": {
      "text/plain": [
       "dict_keys(['fwd_fn', 'type', 'params', 'hyper_params'])"
      ]
     },
     "execution_count": 41,
     "metadata": {},
     "output_type": "execute_result"
    }
   ],
   "source": [
    "linear.keys()"
   ]
  },
  {
   "cell_type": "code",
   "execution_count": 42,
   "metadata": {},
   "outputs": [
    {
     "data": {
      "text/plain": [
       "<function fn_linear_.fn_linear(input, params, hyper_params, backprop, dv_output=None)>"
      ]
     },
     "execution_count": 42,
     "metadata": {},
     "output_type": "execute_result"
    }
   ],
   "source": [
    "linear['fwd_fn']"
   ]
  },
  {
   "cell_type": "code",
   "execution_count": 43,
   "metadata": {},
   "outputs": [
    {
     "data": {
      "text/plain": [
       "{'num_in': 32, 'num_out': 10}"
      ]
     },
     "execution_count": 43,
     "metadata": {},
     "output_type": "execute_result"
    }
   ],
   "source": [
    "linear['hyper_params']"
   ]
  },
  {
   "cell_type": "code",
   "execution_count": 44,
   "metadata": {},
   "outputs": [],
   "source": [
    "x = np.random.randn(32,1)"
   ]
  },
  {
   "cell_type": "code",
   "execution_count": 45,
   "metadata": {},
   "outputs": [],
   "source": [
    "W = linear['params']['W'].shape\n",
    "b = linear['params']['b'].shape"
   ]
  },
  {
   "cell_type": "code",
   "execution_count": 46,
   "metadata": {},
   "outputs": [
    {
     "data": {
      "text/plain": [
       "(10, 1)"
      ]
     },
     "execution_count": 46,
     "metadata": {},
     "output_type": "execute_result"
    }
   ],
   "source": [
    "y = linear['params']['W'] @ x + linear['params']['b']\n",
    "y.shape"
   ]
  },
  {
   "cell_type": "code",
   "execution_count": 47,
   "metadata": {},
   "outputs": [
    {
     "data": {
      "text/plain": [
       "(array([[ 0.31091351],\n",
       "        [-0.24683413],\n",
       "        [ 0.14511577],\n",
       "        [-0.90967512],\n",
       "        [ 0.70062043],\n",
       "        [-0.16860566],\n",
       "        [-0.8706041 ],\n",
       "        [-0.70034567],\n",
       "        [ 0.82629805],\n",
       "        [ 0.07134173]]),\n",
       " array([], dtype=float64),\n",
       " {'W': array([], dtype=float64), 'b': array([], dtype=float64)})"
      ]
     },
     "execution_count": 47,
     "metadata": {},
     "output_type": "execute_result"
    }
   ],
   "source": [
    "linear['fwd_fn'](\n",
    "    input=x, \n",
    "    params=linear['params'], \n",
    "    hyper_params=linear['hyper_params'],\n",
    "    backprop=False\n",
    "    )"
   ]
  },
  {
   "attachments": {},
   "cell_type": "markdown",
   "metadata": {},
   "source": [
    "### Initializing a model\n",
    "\n",
    "Basic size and content information can be seen below for each layer in the model. When the layer is initialized, the weights are also initialized for that layer.\n"
   ]
  },
  {
   "cell_type": "code",
   "execution_count": 3,
   "metadata": {},
   "outputs": [],
   "source": [
    "l = [\n",
    "    init_layers(\"conv\", {\"filter_size\": 2, \"filter_depth\": 3, \"num_filters\": 2}),\n",
    "    init_layers(\"pool\", {\"filter_size\": 2, \"stride\": 2}),\n",
    "    init_layers(\"relu\", {}),\n",
    "    init_layers(\"flatten\", {}),\n",
    "    init_layers(\"linear\", {\"num_in\": 32, \"num_out\": 10}),\n",
    "    init_layers(\"softmax\", {}),\n",
    "]"
   ]
  },
  {
   "cell_type": "code",
   "execution_count": 49,
   "metadata": {},
   "outputs": [
    {
     "data": {
      "text/plain": [
       "dict_keys(['fwd_fn', 'type', 'params', 'hyper_params'])"
      ]
     },
     "execution_count": 49,
     "metadata": {},
     "output_type": "execute_result"
    }
   ],
   "source": [
    "l[0].keys()"
   ]
  },
  {
   "cell_type": "code",
   "execution_count": 50,
   "metadata": {},
   "outputs": [
    {
     "name": "stdout",
     "output_type": "stream",
     "text": [
      "layer type: conv\n",
      "layer type: pool\n",
      "layer type: relu\n",
      "layer type: flatten\n",
      "layer type: linear\n",
      "layer type: softmax\n"
     ]
    }
   ],
   "source": [
    "for layer in l:\n",
    "    print(f\"layer type: {layer['type']}\")"
   ]
  },
  {
   "cell_type": "code",
   "execution_count": 51,
   "metadata": {},
   "outputs": [
    {
     "name": "stdout",
     "output_type": "stream",
     "text": [
      "layer type: <function fn_conv at 0x00000224DB6174C8>\n",
      "layer type: <function fn_pool at 0x00000224CC36B708>\n",
      "layer type: <function fn_relu at 0x00000224CC3C94C8>\n",
      "layer type: <function fn_flatten at 0x00000224BCFBDEE8>\n",
      "layer type: <function fn_linear at 0x00000224CC43D678>\n",
      "layer type: <function fn_softmax at 0x00000224CC3920D8>\n"
     ]
    }
   ],
   "source": [
    "for layer in l:\n",
    "    print(f\"layer type: {layer['fwd_fn']}\")"
   ]
  },
  {
   "cell_type": "code",
   "execution_count": 52,
   "metadata": {},
   "outputs": [
    {
     "name": "stdout",
     "output_type": "stream",
     "text": [
      "layer params: dict_keys(['W', 'b'])\n",
      "layer params: dict_keys(['W', 'b'])\n",
      "layer params: dict_keys(['W', 'b'])\n",
      "layer params: dict_keys(['W', 'b'])\n",
      "layer params: dict_keys(['W', 'b'])\n",
      "layer params: dict_keys(['W', 'b'])\n"
     ]
    }
   ],
   "source": [
    "for layer in l:\n",
    "    print(f\"layer params: {layer['params'].keys()}\")"
   ]
  },
  {
   "cell_type": "code",
   "execution_count": 53,
   "metadata": {},
   "outputs": [
    {
     "name": "stdout",
     "output_type": "stream",
     "text": [
      "layer params: dict_keys(['filter_size', 'filter_depth', 'num_filters'])\n",
      "layer params: dict_keys(['filter_size', 'stride'])\n",
      "layer params: dict_keys([])\n",
      "layer params: dict_keys([])\n",
      "layer params: dict_keys(['num_in', 'num_out'])\n",
      "layer params: dict_keys([])\n"
     ]
    }
   ],
   "source": [
    "for layer in l:\n",
    "    print(f\"layer params: {layer['hyper_params'].keys()}\")"
   ]
  },
  {
   "attachments": {},
   "cell_type": "markdown",
   "metadata": {},
   "source": [
    "Now lets initialize a model with these layers."
   ]
  },
  {
   "cell_type": "code",
   "execution_count": 4,
   "metadata": {},
   "outputs": [
    {
     "name": "stdout",
     "output_type": "stream",
     "text": [
      "Input size:\n",
      "[10, 10, 3]\n",
      "Layer 0 output size: \n",
      "(9, 9, 2)\n",
      "Layer 1 output size: \n",
      "(4, 4, 2)\n",
      "Layer 2 output size: \n",
      "(4, 4, 2)\n",
      "Layer 3 output size: \n",
      "(32,)\n",
      "Layer 4 output size: \n",
      "(10,)\n",
      "Final output size:\n",
      "(10,)\n",
      "Provided output size (should match above):\n",
      "10\n",
      "(Batch dimension not included)\n"
     ]
    }
   ],
   "source": [
    "model = init_model(\n",
    "    layers=l,\n",
    "    input_size=[10,10,3], # does not include batches only [H,W,D] \n",
    "    output_size=10, \n",
    "    display=True\n",
    "    )"
   ]
  },
  {
   "cell_type": "code",
   "execution_count": 6,
   "metadata": {},
   "outputs": [
    {
     "data": {
      "text/plain": [
       "dict_keys(['layers', 'input_size', 'output_size'])"
      ]
     },
     "execution_count": 6,
     "metadata": {},
     "output_type": "execute_result"
    }
   ],
   "source": [
    "model.keys()"
   ]
  },
  {
   "cell_type": "code",
   "execution_count": 5,
   "metadata": {},
   "outputs": [
    {
     "name": "stdout",
     "output_type": "stream",
     "text": [
      "layer 0 dict: dict_keys(['fwd_fn', 'type', 'params', 'hyper_params'])\n",
      "input size: [10, 10, 3]\n",
      "output size: 10\n"
     ]
    }
   ],
   "source": [
    "layer_n = 0\n",
    "print(f\"layer {layer_n} dict: {model['layers'][layer_n].keys()}\")\n",
    "print(f\"input size: {model['input_size']}\")\n",
    "print(f\"output size: {model['output_size']}\")"
   ]
  },
  {
   "attachments": {},
   "cell_type": "markdown",
   "metadata": {},
   "source": [
    "### Run Inference (Forward pass)"
   ]
  },
  {
   "cell_type": "code",
   "execution_count": 7,
   "metadata": {},
   "outputs": [],
   "source": [
    "                 # [H, W, Channels, Batch]\n",
    "inp = np.random.rand(10, 10, 3, 4)  # Dummy input"
   ]
  },
  {
   "cell_type": "code",
   "execution_count": 34,
   "metadata": {},
   "outputs": [],
   "source": [
    "output, activations = inference(model, inp)"
   ]
  },
  {
   "cell_type": "code",
   "execution_count": 9,
   "metadata": {},
   "outputs": [
    {
     "name": "stdout",
     "output_type": "stream",
     "text": [
      "output size: (10, 4)\n",
      "layer 0 activation shape (9, 9, 2, 4)\n",
      "layer 1 activation shape (4, 4, 2, 4)\n",
      "layer 2 activation shape (4, 4, 2, 4)\n",
      "layer 3 activation shape (32, 4)\n",
      "layer 4 activation shape (10, 4)\n",
      "layer 5 activation shape (10, 4)\n"
     ]
    }
   ],
   "source": [
    "print(f\"output size: {output.shape}\")\n",
    "\n",
    "for ilayer, act in enumerate(activations):\n",
    "    print(f\"layer {ilayer} activation shape {act.shape}\")"
   ]
  },
  {
   "attachments": {},
   "cell_type": "markdown",
   "metadata": {},
   "source": [
    "### Calculate loss"
   ]
  },
  {
   "cell_type": "code",
   "execution_count": 35,
   "metadata": {},
   "outputs": [
    {
     "name": "stdout",
     "output_type": "stream",
     "text": [
      "loss for this forward pass is: 2.296089679706197\n"
     ]
    }
   ],
   "source": [
    "# dummy idx corresponding to which neuron has the highest activation\n",
    "labels = np.array([0,5,6,8]) \n",
    "\n",
    "# this function averages the loss across a batch\n",
    "loss, dv = loss_crossentropy(output, labels, hyper_params=None, backprop=True)\n",
    "\n",
    "print(f\"loss for this forward pass is: {loss}\")"
   ]
  },
  {
   "cell_type": "code",
   "execution_count": 11,
   "metadata": {},
   "outputs": [
    {
     "name": "stdout",
     "output_type": "stream",
     "text": [
      "shape of derivative to start gradient with is (10, 4)\n"
     ]
    }
   ],
   "source": [
    "print(f\"shape of derivative to start gradient with is {dv.shape}\")"
   ]
  },
  {
   "cell_type": "code",
   "execution_count": 36,
   "metadata": {},
   "outputs": [
    {
     "data": {
      "text/plain": [
       "array([[-10.00733793,   0.        ,   0.        ,   0.        ],\n",
       "       [  0.        ,   0.        ,   0.        ,   0.        ],\n",
       "       [  0.        ,   0.        ,   0.        ,   0.        ],\n",
       "       [  0.        ,   0.        ,   0.        ,   0.        ],\n",
       "       [  0.        ,   0.        ,   0.        ,   0.        ],\n",
       "       [  0.        ,  -8.60662314,   0.        ,   0.        ],\n",
       "       [  0.        ,   0.        , -10.87445509,   0.        ],\n",
       "       [  0.        ,   0.        ,   0.        ,   0.        ],\n",
       "       [  0.        ,   0.        ,   0.        , -10.39882376],\n",
       "       [  0.        ,   0.        ,   0.        ,   0.        ]])"
      ]
     },
     "execution_count": 36,
     "metadata": {},
     "output_type": "execute_result"
    }
   ],
   "source": [
    "# note we only have derivatives for the \"true\" labels\n",
    "dv"
   ]
  },
  {
   "cell_type": "markdown",
   "metadata": {},
   "source": [
    "### Calculate Accuracy"
   ]
  },
  {
   "cell_type": "code",
   "execution_count": 37,
   "metadata": {},
   "outputs": [
    {
     "data": {
      "text/plain": [
       "array([5, 5, 1, 5], dtype=int64)"
      ]
     },
     "execution_count": 37,
     "metadata": {},
     "output_type": "execute_result"
    }
   ],
   "source": [
    "y_hat = np.argmax(output, axis=0)\n",
    "y_hat # what the model chose\n"
   ]
  },
  {
   "cell_type": "code",
   "execution_count": 38,
   "metadata": {},
   "outputs": [
    {
     "data": {
      "text/plain": [
       "0.25"
      ]
     },
     "execution_count": 38,
     "metadata": {},
     "output_type": "execute_result"
    }
   ],
   "source": [
    "# correct is when y_hat = labels\n",
    "np.sum((y_hat - labels) == 0) / len(labels)"
   ]
  },
  {
   "attachments": {},
   "cell_type": "markdown",
   "metadata": {},
   "source": [
    "### Calculate Gradient"
   ]
  },
  {
   "cell_type": "code",
   "execution_count": 39,
   "metadata": {},
   "outputs": [],
   "source": [
    "grads = calc_gradient(model, inp, activations, dv)\n",
    "gradsL.append(grads)"
   ]
  },
  {
   "cell_type": "code",
   "execution_count": 40,
   "metadata": {},
   "outputs": [
    {
     "data": {
      "text/plain": [
       "(6, 2)"
      ]
     },
     "execution_count": 40,
     "metadata": {},
     "output_type": "execute_result"
    }
   ],
   "source": [
    "len(grads), len(gradsL)"
   ]
  },
  {
   "cell_type": "code",
   "execution_count": 67,
   "metadata": {},
   "outputs": [
    {
     "name": "stdout",
     "output_type": "stream",
     "text": [
      "layer 0: conv activation shape (9, 9, 2, 4)\n",
      "    W gradient shape: (2, 2, 3, 2)\n",
      "    b gradient shape: (2, 1)\n",
      "layer 1: pool activation shape (4, 4, 2, 4)\n",
      "    W gradient shape: (0,)\n",
      "    b gradient shape: (0,)\n",
      "layer 2: relu activation shape (4, 4, 2, 4)\n",
      "    W gradient shape: (0,)\n",
      "    b gradient shape: (0,)\n",
      "layer 3: flatten activation shape (32, 4)\n",
      "    W gradient shape: (0,)\n",
      "    b gradient shape: (0,)\n",
      "layer 4: linear activation shape (10, 4)\n",
      "    W gradient shape: (10, 32)\n",
      "    b gradient shape: (10, 1)\n",
      "layer 5: softmax activation shape (10, 4)\n",
      "    W gradient shape: (0,)\n",
      "    b gradient shape: (0,)\n"
     ]
    }
   ],
   "source": [
    "for ilayer, act in enumerate(activations):\n",
    "    print(f\"layer {ilayer}: {l[ilayer]['type']} activation shape {act.shape}\")\n",
    "\n",
    "    for key,value in grads[ilayer].items():\n",
    "        print(f\"    {key} gradient shape: {value.shape}\")"
   ]
  },
  {
   "attachments": {},
   "cell_type": "markdown",
   "metadata": {},
   "source": [
    "### Update weights "
   ]
  },
  {
   "cell_type": "code",
   "execution_count": 19,
   "metadata": {},
   "outputs": [],
   "source": [
    "update_params = {\"learning_rate\": 0.1,\n",
    "                    \"weight_decay\": 0.001 }"
   ]
  },
  {
   "cell_type": "code",
   "execution_count": 72,
   "metadata": {},
   "outputs": [],
   "source": [
    "update_params['average_grad'] = gradsL[0].copy()"
   ]
  },
  {
   "cell_type": "code",
   "execution_count": 75,
   "metadata": {},
   "outputs": [
    {
     "data": {
      "text/plain": [
       "[{'W': array([[[[0.19486676, 0.        ],\n",
       "           [0.09737152, 0.        ],\n",
       "           [0.02460886, 0.        ]],\n",
       "  \n",
       "          [[0.11566207, 0.        ],\n",
       "           [0.05951574, 0.        ],\n",
       "           [0.11762663, 0.        ]]],\n",
       "  \n",
       "  \n",
       "         [[[0.05685761, 0.        ],\n",
       "           [0.23389914, 0.        ],\n",
       "           [0.11088049, 0.        ]],\n",
       "  \n",
       "          [[0.07162039, 0.        ],\n",
       "           [0.09607367, 0.        ],\n",
       "           [0.00914853, 0.        ]]]]),\n",
       "  'b': array([[0.19525678],\n",
       "         [0.        ]])},\n",
       " {'W': array([], dtype=float64), 'b': array([], dtype=float64)},\n",
       " {'W': array([], dtype=float64), 'b': array([], dtype=float64)},\n",
       " {'W': array([], dtype=float64), 'b': array([], dtype=float64)},\n",
       " {'W': array([[-0.0814674 , -0.04726772, -0.05395581, -0.05929124, -0.08078541,\n",
       "          -0.06439375, -0.05129363, -0.06087379, -0.05174607, -0.0637727 ,\n",
       "          -0.05532055, -0.04702331, -0.06720641, -0.03478838, -0.07633366,\n",
       "          -0.05230182,  0.        ,  0.        ,  0.        ,  0.        ,\n",
       "           0.        ,  0.        ,  0.        ,  0.        ,  0.        ,\n",
       "           0.        ,  0.        ,  0.        ,  0.        ,  0.        ,\n",
       "           0.        ,  0.        ],\n",
       "         [ 0.05705389,  0.05111544,  0.06369694,  0.06156879,  0.04929675,\n",
       "           0.05942366,  0.0599301 ,  0.0514185 ,  0.05146411,  0.05730328,\n",
       "           0.05430864,  0.05280407,  0.05427145,  0.05124107,  0.05981144,\n",
       "           0.05329136,  0.        ,  0.        ,  0.        ,  0.        ,\n",
       "           0.        ,  0.        ,  0.        ,  0.        ,  0.        ,\n",
       "           0.        ,  0.        ,  0.        ,  0.        ,  0.        ,\n",
       "           0.        ,  0.        ],\n",
       "         [ 0.05164348,  0.04589835,  0.05758096,  0.05566256,  0.0444461 ,\n",
       "           0.05369974,  0.05413159,  0.04664348,  0.04642169,  0.0518064 ,\n",
       "           0.04906775,  0.04765805,  0.04899556,  0.04612692,  0.05382613,\n",
       "           0.04807565,  0.        ,  0.        ,  0.        ,  0.        ,\n",
       "           0.        ,  0.        ,  0.        ,  0.        ,  0.        ,\n",
       "           0.        ,  0.        ,  0.        ,  0.        ,  0.        ,\n",
       "           0.        ,  0.        ],\n",
       "         [ 0.03290561,  0.02958735,  0.03664643,  0.03552503,  0.02858738,\n",
       "           0.03438013,  0.03462243,  0.02966313,  0.02978746,  0.0331073 ,\n",
       "           0.03123942,  0.03043231,  0.03150794,  0.02957634,  0.03467554,\n",
       "           0.03073201,  0.        ,  0.        ,  0.        ,  0.        ,\n",
       "           0.        ,  0.        ,  0.        ,  0.        ,  0.        ,\n",
       "           0.        ,  0.        ,  0.        ,  0.        ,  0.        ,\n",
       "           0.        ,  0.        ],\n",
       "         [ 0.04279526,  0.03794677,  0.04750629,  0.04584588,  0.03688876,\n",
       "           0.04419503,  0.04449679,  0.03840033,  0.03822404,  0.04270199,\n",
       "           0.04062178,  0.03934083,  0.04030363,  0.03800519,  0.04454089,\n",
       "           0.0397338 ,  0.        ,  0.        ,  0.        ,  0.        ,\n",
       "           0.        ,  0.        ,  0.        ,  0.        ,  0.        ,\n",
       "           0.        ,  0.        ,  0.        ,  0.        ,  0.        ,\n",
       "           0.        ,  0.        ],\n",
       "         [-0.07805375, -0.03101993, -0.09858365, -0.08149098, -0.03195915,\n",
       "          -0.06383187, -0.07096103, -0.07945174, -0.04755755, -0.0689514 ,\n",
       "          -0.08116754, -0.06858595, -0.03928984, -0.053002  , -0.03548314,\n",
       "          -0.06426785,  0.        ,  0.        ,  0.        ,  0.        ,\n",
       "           0.        ,  0.        ,  0.        ,  0.        ,  0.        ,\n",
       "           0.        ,  0.        ,  0.        ,  0.        ,  0.        ,\n",
       "           0.        ,  0.        ],\n",
       "         [-0.05327225, -0.078857  , -0.07603212, -0.09074291, -0.05969092,\n",
       "          -0.10026964, -0.10311108, -0.07196803, -0.08873546, -0.08492833,\n",
       "          -0.05045269, -0.0679984 , -0.10497126, -0.08155107, -0.08900403,\n",
       "          -0.06593698,  0.        ,  0.        ,  0.        ,  0.        ,\n",
       "           0.        ,  0.        ,  0.        ,  0.        ,  0.        ,\n",
       "           0.        ,  0.        ,  0.        ,  0.        ,  0.        ,\n",
       "           0.        ,  0.        ],\n",
       "         [ 0.04553411,  0.04056443,  0.05063701,  0.04887225,  0.03930844,\n",
       "           0.04712296,  0.04747363,  0.0408628 ,  0.04079257,  0.04550977,\n",
       "           0.04328163,  0.04196095,  0.04299176,  0.04060679,  0.04754122,\n",
       "           0.04237861,  0.        ,  0.        ,  0.        ,  0.        ,\n",
       "           0.        ,  0.        ,  0.        ,  0.        ,  0.        ,\n",
       "           0.        ,  0.        ,  0.        ,  0.        ,  0.        ,\n",
       "           0.        ,  0.        ],\n",
       "         [-0.06385106, -0.08952882, -0.0795976 , -0.06633777, -0.06631659,\n",
       "          -0.05895534, -0.06431066, -0.03691115, -0.06069311, -0.05967543,\n",
       "          -0.07596016, -0.07171984, -0.0509911 , -0.07798202, -0.08830936,\n",
       "          -0.07521159,  0.        ,  0.        ,  0.        ,  0.        ,\n",
       "           0.        ,  0.        ,  0.        ,  0.        ,  0.        ,\n",
       "           0.        ,  0.        ,  0.        ,  0.        ,  0.        ,\n",
       "           0.        ,  0.        ],\n",
       "         [ 0.04671211,  0.04156113,  0.05210155,  0.05038838,  0.04022464,\n",
       "           0.04862909,  0.04902185,  0.04221647,  0.04204233,  0.04689912,\n",
       "           0.04438172,  0.04313128,  0.04438829,  0.04176715,  0.04873498,\n",
       "           0.04350682,  0.        ,  0.        ,  0.        ,  0.        ,\n",
       "           0.        ,  0.        ,  0.        ,  0.        ,  0.        ,\n",
       "           0.        ,  0.        ,  0.        ,  0.        ,  0.        ,\n",
       "           0.        ,  0.        ]]),\n",
       "  'b': array([[-0.1560462 ],\n",
       "         [ 0.12855895],\n",
       "         [ 0.11606916],\n",
       "         [ 0.07428425],\n",
       "         [ 0.0959581 ],\n",
       "         [-0.13892596],\n",
       "         [-0.16611901],\n",
       "         [ 0.10228069],\n",
       "         [-0.16110867],\n",
       "         [ 0.10504868]])},\n",
       " {'W': array([], dtype=float64), 'b': array([], dtype=float64)}]"
      ]
     },
     "execution_count": 75,
     "metadata": {},
     "output_type": "execute_result"
    }
   ],
   "source": [
    "# gradsL[-1], \n",
    "update_params['average_grad']"
   ]
  },
  {
   "cell_type": "code",
   "execution_count": 104,
   "metadata": {},
   "outputs": [
    {
     "data": {
      "text/plain": [
       "array([[[ 0.11828177,  0.        ],\n",
       "        [ 0.05538898,  0.        ],\n",
       "        [-0.05101028,  0.        ]],\n",
       "\n",
       "       [[ 0.0627945 ,  0.        ],\n",
       "        [ 0.01403163,  0.        ],\n",
       "        [ 0.05244346,  0.        ]]])"
      ]
     },
     "execution_count": 104,
     "metadata": {},
     "output_type": "execute_result"
    }
   ],
   "source": [
    "pre_average = update_params[\"average_grad\"].copy()\n",
    "pre_average[0][\"W\"][0]\n"
   ]
  },
  {
   "cell_type": "code",
   "execution_count": 105,
   "metadata": {},
   "outputs": [],
   "source": [
    "new_grad = gradsL[-1] # this is grad in the train.py\n",
    "n_averaged = 1\n",
    "for ilayer in range(len(new_grad)):\n",
    "    layer_avg_grad = update_params['average_grad'][ilayer][\"W\"]\n",
    "    layer_new_grad = new_grad[ilayer][\"W\"]\n",
    "    if len(layer_avg_grad) != 0:\n",
    "         update_params['average_grad'][ilayer][\"W\"] = \\\n",
    "         (layer_new_grad + (n_averaged * layer_avg_grad))/(n_averaged + 1)\n",
    "n_averaged += 1\n"
   ]
  },
  {
   "cell_type": "code",
   "execution_count": 106,
   "metadata": {},
   "outputs": [
    {
     "data": {
      "text/plain": [
       "(array([[[[ 0.11281142,  0.        ],\n",
       "          [ 0.05239023,  0.        ],\n",
       "          [-0.05641165,  0.        ]],\n",
       " \n",
       "         [[ 0.05901825,  0.        ],\n",
       "          [ 0.01078276,  0.        ],\n",
       "          [ 0.04778752,  0.        ]]],\n",
       " \n",
       " \n",
       "        [[[ 0.01754384,  0.        ],\n",
       "          [ 0.17013335,  0.        ],\n",
       "          [ 0.05712072,  0.        ]],\n",
       " \n",
       "         [[ 0.01406363,  0.        ],\n",
       "          [ 0.01376295,  0.        ],\n",
       "          [-0.0283961 ,  0.        ]]]]),\n",
       " array([[[[ 0.11281142,  0.        ],\n",
       "          [ 0.05239023,  0.        ],\n",
       "          [-0.05641165,  0.        ]],\n",
       " \n",
       "         [[ 0.05901825,  0.        ],\n",
       "          [ 0.01078276,  0.        ],\n",
       "          [ 0.04778752,  0.        ]]],\n",
       " \n",
       " \n",
       "        [[[ 0.01754384,  0.        ],\n",
       "          [ 0.17013335,  0.        ],\n",
       "          [ 0.05712072,  0.        ]],\n",
       " \n",
       "         [[ 0.01406363,  0.        ],\n",
       "          [ 0.01376295,  0.        ],\n",
       "          [-0.0283961 ,  0.        ]]]]))"
      ]
     },
     "execution_count": 106,
     "metadata": {},
     "output_type": "execute_result"
    }
   ],
   "source": [
    "pre_average[0][\"W\"], update_params['average_grad'][0][\"W\"] #howare these both changing yet the same?"
   ]
  },
  {
   "cell_type": "code",
   "execution_count": 61,
   "metadata": {},
   "outputs": [
    {
     "data": {
      "text/plain": [
       "(10, 32)"
      ]
     },
     "execution_count": 61,
     "metadata": {},
     "output_type": "execute_result"
    }
   ],
   "source": [
    "update_params['new_avg_grad'].shape"
   ]
  },
  {
   "cell_type": "code",
   "execution_count": 57,
   "metadata": {},
   "outputs": [
    {
     "data": {
      "text/plain": [
       "({'W': array([], dtype=float64), 'b': array([], dtype=float64)},\n",
       " {'W': array([], dtype=float64), 'b': array([], dtype=float64)})"
      ]
     },
     "execution_count": 57,
     "metadata": {},
     "output_type": "execute_result"
    }
   ],
   "source": [
    "avg_layer, new_layer"
   ]
  },
  {
   "cell_type": "code",
   "execution_count": 27,
   "metadata": {},
   "outputs": [
    {
     "data": {
      "text/plain": [
       "0"
      ]
     },
     "execution_count": 27,
     "metadata": {},
     "output_type": "execute_result"
    }
   ],
   "source": [
    "len(layer['W'])"
   ]
  },
  {
   "cell_type": "code",
   "execution_count": 32,
   "metadata": {},
   "outputs": [],
   "source": [
    "hyper_params = {\"learning_rate\": 0.1, \"weight_decay\": 0.01 }"
   ]
  },
  {
   "cell_type": "code",
   "execution_count": 33,
   "metadata": {},
   "outputs": [
    {
     "name": "stdout",
     "output_type": "stream",
     "text": [
      "[[ 0.11374794]\n",
      " [-0.07572622]]\n",
      "[[ 0.09422226]\n",
      " [-0.07572622]]\n"
     ]
    }
   ],
   "source": [
    "print(model['layers'][0]['params']['b']) \n",
    "updated_model = update_weights(model, grads, hyper_params) # note this overwrites the model!\n",
    "print(updated_model['layers'][0]['params']['b'])"
   ]
  },
  {
   "cell_type": "code",
   "execution_count": 72,
   "metadata": {},
   "outputs": [],
   "source": [
    "l = [\n",
    "    init_layers(\"conv\", {\"filter_size\": 3, \"filter_depth\": 3, \"num_filters\": 3}),\n",
    "    init_layers(\"pool\", {\"filter_size\": 2, \"stride\": 2}),\n",
    "    init_layers(\"relu\", {}),\n",
    "    # init_layers(\"flatten\", {}),\n",
    "    # init_layers(\"linear\", {\"num_in\": 588, \"num_out\": 10}),\n",
    "    # init_layers(\"softmax\", {}),\n",
    "]"
   ]
  },
  {
   "cell_type": "code",
   "execution_count": 73,
   "metadata": {},
   "outputs": [
    {
     "name": "stdout",
     "output_type": "stream",
     "text": [
      "Input size:\n",
      "[32, 32, 3]\n",
      "Layer 0 output size: \n",
      "(30, 30, 3)\n",
      "Layer 1 output size: \n",
      "(15, 15, 3)\n",
      "Final output size:\n",
      "(15, 15, 3)\n",
      "Provided output size (should match above):\n",
      "10\n",
      "(Batch dimension not included)\n"
     ]
    },
    {
     "ename": "AssertionError",
     "evalue": "Network output does not match up with provided output size",
     "output_type": "error",
     "traceback": [
      "\u001b[1;31m---------------------------------------------------------------------------\u001b[0m",
      "\u001b[1;31mAssertionError\u001b[0m                            Traceback (most recent call last)",
      "\u001b[1;32m~\\AppData\\Local\\Temp\\ipykernel_12292\\2393605476.py\u001b[0m in \u001b[0;36m<module>\u001b[1;34m\u001b[0m\n\u001b[0;32m      3\u001b[0m     \u001b[0minput_size\u001b[0m\u001b[1;33m=\u001b[0m\u001b[1;33m[\u001b[0m\u001b[1;36m32\u001b[0m\u001b[1;33m,\u001b[0m\u001b[1;36m32\u001b[0m\u001b[1;33m,\u001b[0m\u001b[1;36m3\u001b[0m\u001b[1;33m]\u001b[0m\u001b[1;33m,\u001b[0m \u001b[1;31m# does not include batches only [H,W,D]\u001b[0m\u001b[1;33m\u001b[0m\u001b[1;33m\u001b[0m\u001b[0m\n\u001b[0;32m      4\u001b[0m     \u001b[0moutput_size\u001b[0m\u001b[1;33m=\u001b[0m\u001b[1;36m10\u001b[0m\u001b[1;33m,\u001b[0m\u001b[1;33m\u001b[0m\u001b[1;33m\u001b[0m\u001b[0m\n\u001b[1;32m----> 5\u001b[1;33m     \u001b[0mdisplay\u001b[0m\u001b[1;33m=\u001b[0m\u001b[1;32mTrue\u001b[0m\u001b[1;33m\u001b[0m\u001b[1;33m\u001b[0m\u001b[0m\n\u001b[0m\u001b[0;32m      6\u001b[0m     )\n",
      "\u001b[1;32mc:\\Users\\jbred\\github\\COS429\\Assignment 3\\initial\\init_model.py\u001b[0m in \u001b[0;36minit_model\u001b[1;34m(layers, input_size, output_size, display)\u001b[0m\n\u001b[0;32m     60\u001b[0m \u001b[1;33m\u001b[0m\u001b[0m\n\u001b[0;32m     61\u001b[0m     \u001b[1;32mif\u001b[0m \u001b[0misinstance\u001b[0m\u001b[1;33m(\u001b[0m\u001b[0moutput_size\u001b[0m\u001b[1;33m,\u001b[0m \u001b[1;33m(\u001b[0m\u001b[0mint\u001b[0m\u001b[1;33m,\u001b[0m \u001b[0mfloat\u001b[0m\u001b[1;33m)\u001b[0m\u001b[1;33m)\u001b[0m\u001b[1;33m:\u001b[0m\u001b[1;33m\u001b[0m\u001b[1;33m\u001b[0m\u001b[0m\n\u001b[1;32m---> 62\u001b[1;33m         \u001b[1;32massert\u001b[0m \u001b[0mlen\u001b[0m\u001b[1;33m(\u001b[0m\u001b[0mnetwork_output_size\u001b[0m\u001b[1;33m)\u001b[0m \u001b[1;33m==\u001b[0m \u001b[1;36m1\u001b[0m\u001b[1;33m,\u001b[0m \u001b[1;34m'Network output does not match up with provided output size'\u001b[0m\u001b[1;33m\u001b[0m\u001b[1;33m\u001b[0m\u001b[0m\n\u001b[0m\u001b[0;32m     63\u001b[0m         \u001b[1;32massert\u001b[0m \u001b[0mnetwork_output_size\u001b[0m\u001b[1;33m[\u001b[0m\u001b[1;36m0\u001b[0m\u001b[1;33m]\u001b[0m \u001b[1;33m==\u001b[0m \u001b[0moutput_size\u001b[0m\u001b[1;33m,\u001b[0m \u001b[1;34m'Network output does not match up with provided output size'\u001b[0m\u001b[1;33m\u001b[0m\u001b[1;33m\u001b[0m\u001b[0m\n\u001b[0;32m     64\u001b[0m     \u001b[1;32melse\u001b[0m\u001b[1;33m:\u001b[0m\u001b[1;33m\u001b[0m\u001b[1;33m\u001b[0m\u001b[0m\n",
      "\u001b[1;31mAssertionError\u001b[0m: Network output does not match up with provided output size"
     ]
    }
   ],
   "source": [
    "model = init_model(\n",
    "    layers=l,\n",
    "    input_size=[32,32,3], # does not include batches only [H,W,D] \n",
    "    output_size=10, \n",
    "    display=True\n",
    "    )"
   ]
  },
  {
   "cell_type": "code",
   "execution_count": 108,
   "metadata": {},
   "outputs": [
    {
     "name": "stdout",
     "output_type": "stream",
     "text": [
      "Train data shape:  (32, 32, 3, 50000)\n",
      "Train labels shape:  (50000,)\n",
      "Test data shape:  (32, 32, 3, 10000)\n",
      "Test labels shape:  (10000,)\n"
     ]
    }
   ],
   "source": [
    "from init_base_model import init_base_model\n",
    "from train_custom import train_custom\n",
    "\n",
    "X_train, y_train, X_test, y_test = get_CIFAR10_data()\n"
   ]
  },
  {
   "cell_type": "code",
   "execution_count": 176,
   "metadata": {},
   "outputs": [
    {
     "name": "stdout",
     "output_type": "stream",
     "text": [
      "Input size:\n",
      "[32, 32, 3]\n",
      "Layer 0 output size: \n",
      "(28, 28, 3)\n",
      "Layer 1 output size: \n",
      "(14, 14, 3)\n",
      "Layer 2 output size: \n",
      "(14, 14, 3)\n",
      "Layer 3 output size: \n",
      "(588,)\n",
      "Layer 4 output size: \n",
      "(10,)\n",
      "Final output size:\n",
      "(10,)\n",
      "Provided output size (should match above):\n",
      "10\n",
      "(Batch dimension not included)\n"
     ]
    }
   ],
   "source": [
    "model = init_base_model()\n",
    "n_train = 20\n",
    "n_test = 100\n",
    "### TRAIN DATA\n",
    "X_train_tiny = X_train[:,:,:, :n_train]\n",
    "y_train_tiny = y_train[:n_train]\n",
    "### TEST/VALIDATION DATA\n",
    "X_test_tiny = X_test[:,:,:,:n_test]\n",
    "y_test_tiny = y_test[:n_test]"
   ]
  },
  {
   "cell_type": "code",
   "execution_count": 182,
   "metadata": {},
   "outputs": [],
   "source": [
    "learning_rate = 1e1\n",
    "weight_decay = 1e-5\n",
    "batch_size = 10\n",
    "save_file = '\\\\test_base_model'\n",
    "live_plot_on = False\n",
    "itr_to_plot = 50\n",
    "verbose = True\n",
    "early_stopping_on = True\n",
    "calculate_test = True\n",
    "itr_to_test = 100\n",
    "numIters = 500\n",
    "\n",
    "params = {\n",
    "    \"learning_rate\" :learning_rate, # default 0.01\n",
    "    \"weight_decay\":weight_decay , # default 0.0005\n",
    "    \"batch_size\" : batch_size,    # default 128\n",
    "    \"save_file\" : save_file,      # default model\n",
    "    # \"save_plot\" using default!\n",
    "    \"live_plot_on\" : live_plot_on,\n",
    "    \"itr_to_plot\" : itr_to_plot,  # how many iterations between plots\n",
    "    \"verbose\" : verbose,\n",
    "    \"early_stopping_on\" : early_stopping_on, #defualt True\n",
    "    \"calculate_test\": calculate_test,       # bool for validation checks\n",
    "    \"itr_to_test\": itr_to_test,   # how many iterations btwn validation check\n",
    "    \"X_test\" : X_test_tiny,\n",
    "    \"y_test\" : y_test_tiny,\n",
    "    }"
   ]
  },
  {
   "cell_type": "code",
   "execution_count": 186,
   "metadata": {},
   "outputs": [
    {
     "name": "stdout",
     "output_type": "stream",
     "text": [
      "running a test!\n",
      "Fished itr 0 / 500; cost: nan train: 0.0 val: 0.1, lr: 10.0\n",
      "Fished itr 1 / 500; cost: nan train: 0.0 val: 0.1, lr: 10.0\n",
      "Fished itr 2 / 500; cost: nan train: 0.0 val: 0.1, lr: 10.0\n",
      "Fished itr 3 / 500; cost: nan train: 0.0 val: 0.1, lr: 10.0\n",
      "Fished itr 4 / 500; cost: nan train: 0.0 val: 0.1, lr: 10.0\n",
      "Fished itr 5 / 500; cost: nan train: 0.0 val: 0.1, lr: 10.0\n",
      "Fished itr 6 / 500; cost: nan train: 0.0 val: 0.1, lr: 10.0\n",
      "Fished itr 7 / 500; cost: nan train: 0.0 val: 0.1, lr: 10.0\n",
      "Fished itr 8 / 500; cost: nan train: 0.0 val: 0.1, lr: 10.0\n",
      "Fished itr 9 / 500; cost: nan train: 0.0 val: 0.1, lr: 10.0\n",
      "Fished itr 10 / 500; cost: nan train: 0.0 val: 0.1, lr: 10.0\n",
      "Fished itr 11 / 500; cost: nan train: 0.0 val: 0.1, lr: 10.0\n",
      "Fished itr 12 / 500; cost: nan train: 0.0 val: 0.1, lr: 10.0\n",
      "Fished itr 13 / 500; cost: nan train: 0.0 val: 0.1, lr: 10.0\n",
      "Fished itr 14 / 500; cost: nan train: 0.0 val: 0.1, lr: 10.0\n",
      "Fished itr 15 / 500; cost: nan train: 0.0 val: 0.1, lr: 10.0\n",
      "Fished itr 16 / 500; cost: nan train: 0.0 val: 0.1, lr: 10.0\n",
      "Fished itr 17 / 500; cost: nan train: 0.0 val: 0.1, lr: 10.0\n",
      "Fished itr 18 / 500; cost: nan train: 0.0 val: 0.1, lr: 10.0\n",
      "Fished itr 19 / 500; cost: nan train: 0.0 val: 0.1, lr: 10.0\n",
      "Fished itr 20 / 500; cost: nan train: 0.0 val: 0.1, lr: 10.0\n",
      "early stopping loss if exploding!\n",
      "Time to train: 7.02\n"
     ]
    },
    {
     "data": {
      "image/png": "[encoded data removed]",
      "text/plain": [
       "<Figure size 1000x800 with 2 Axes>"
      ]
     },
     "metadata": {},
     "output_type": "display_data"
    }
   ],
   "source": [
    "trained_model, loss, accuracy, test_accuracy, time = train_custom(model,X_train_tiny , y_train_tiny, params, numIters)"
   ]
  },
  {
   "cell_type": "code",
   "execution_count": 185,
   "metadata": {},
   "outputs": [
    {
     "data": {
      "text/plain": [
       "False"
      ]
     },
     "execution_count": 185,
     "metadata": {},
     "output_type": "execute_result"
    }
   ],
   "source": [
    "np.isnan(loss).any()"
   ]
  },
  {
   "cell_type": "code",
   "execution_count": 144,
   "metadata": {},
   "outputs": [
    {
     "data": {
      "text/plain": [
       "'c:\\\\Users\\\\jbred\\\\github\\\\COS429\\\\Assignment_3\\\\initial\\\\results'"
      ]
     },
     "execution_count": 144,
     "metadata": {},
     "output_type": "execute_result"
    }
   ],
   "source": [
    "import os\n",
    "plot_save_path\n",
    "plot_save_path = os.path.join(os.getcwd(), 'results' )\n",
    "plot_save_path\n",
    "# ps"
   ]
  },
  {
   "cell_type": "code",
   "execution_count": 141,
   "metadata": {},
   "outputs": [
    {
     "data": {
      "text/plain": [
       "'c:\\\\Users\\\\jbred\\\\github\\\\COS429\\\\Assignment_3\\\\initialskdfj'"
      ]
     },
     "execution_count": 141,
     "metadata": {},
     "output_type": "execute_result"
    }
   ],
   "source": [
    "os.getcwd() + 'skdfj'"
   ]
  },
  {
   "cell_type": "code",
   "execution_count": 161,
   "metadata": {},
   "outputs": [
    {
     "data": {
      "text/plain": [
       "'c:\\\\Users\\\\jbred\\\\github\\\\COS429\\\\Assignment_3\\\\initial\\\\results\\\\test_base_model'"
      ]
     },
     "execution_count": 161,
     "metadata": {},
     "output_type": "execute_result"
    }
   ],
   "source": [
    "plot_save_path + save_file"
   ]
  },
  {
   "cell_type": "code",
   "execution_count": 164,
   "metadata": {},
   "outputs": [
    {
     "data": {
      "image/png": "[encoded data removed]",
      "text/plain": [
       "<Figure size 1000x800 with 2 Axes>"
      ]
     },
     "metadata": {},
     "output_type": "display_data"
    }
   ],
   "source": [
    "fig, ax = plt.subplots(2,1, figsize = (10,8), sharex=True)\n",
    "\n",
    "# plot aesthetics\n",
    "plt.tight_layout()\n",
    "import seaborn as sns\n",
    "sns.set_context(\"talk\")\n",
    "_ = ax[0].set(title = f\"Training Stats for {save_file[1:]}\", ylabel=\"Training Loss\")\n",
    "_ = ax[1].set(ylabel = \"Accuracy\", xlabel = \"N Iters\")\n",
    "\n",
    "# save_path =\n",
    "# \n",
    "#\n",
    "ax[0].plot(range(numIters), loss, color=\"firebrick\")\n",
    "ax[1].plot(range(numIters), accuracy, color=\"lightgreen\", label=\"train\")\n",
    "ax[1].plot(range(numIters), ta, color=\"forestgreen\", label=\"test\") \n",
    "\n",
    "# handles, labels = ax.get_legend_handles_labels()\n",
    "# fig.legend(handles, labels, loc='upper center')\n",
    "plt.legend()\n",
    "plt.savefig(plot_save_path + save_file,bbox_inches='tight')"
   ]
  }
 ],
 "metadata": {
  "kernelspec": {
   "display_name": "cos429_A3_2",
   "language": "python",
   "name": "python3"
  },
  "language_info": {
   "codemirror_mode": {
    "name": "ipython",
    "version": 3
   },
   "file_extension": ".py",
   "mimetype": "text/x-python",
   "name": "python",
   "nbconvert_exporter": "python",
   "pygments_lexer": "ipython3",
   "version": "3.7.16"
  },
  "orig_nbformat": 4,
  "vscode": {
   "interpreter": {
    "hash": "e2217671dd95e39cccac5b632267f5f9c692addf8553e6f72fc9eb7cb8d3078f"
   }
  }
 },
 "nbformat": 4,
 "nbformat_minor": 2
}
