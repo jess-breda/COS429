{
 "cells": [
  {
   "cell_type": "code",
   "execution_count": 47,
   "metadata": {},
   "outputs": [],
   "source": [
    "import sys\n",
    "sys.path += ['layers']\n",
    "import numpy as np\n",
    "from init_layers import init_layers\n",
    "from init_model import init_model\n",
    "from inference import inference\n",
    "from loss_euclidean import loss_euclidean\n",
    "from loss_crossentropy import loss_crossentropy\n",
    "from data_utils import get_CIFAR10_data\n",
    "\n",
    "import pickle\n",
    "import matplotlib.pyplot as plt\n",
    "\n",
    "use_pcode = True\n",
    "if use_pcode:\n",
    "    # import the provided pyc implementation\n",
    "    sys.path += ['pyc_code']\n",
    "    from inference_ import inference\n",
    "    from calc_gradient_ import calc_gradient\n",
    "    from update_weights_ import update_weights\n",
    "else:\n",
    "    # import your own implementation\n",
    "    from inference import inference\n",
    "    from calc_gradient import calc_gradient\n",
    "    from update_weights import update_weights"
   ]
  },
  {
   "attachments": {},
   "cell_type": "markdown",
   "metadata": {},
   "source": [
    "Load Data\n",
    "\n",
    "TODO- make validation set?"
   ]
  },
  {
   "cell_type": "code",
   "execution_count": 2,
   "metadata": {},
   "outputs": [
    {
     "name": "stdout",
     "output_type": "stream",
     "text": [
      "Train data shape:  (32, 32, 3, 50000)\n",
      "Train labels shape:  (50000,)\n",
      "Test data shape:  (32, 32, 3, 10000)\n",
      "Test labels shape:  (10000,)\n"
     ]
    }
   ],
   "source": [
    "X_train, y_train, X_test, y_test = get_CIFAR10_data()"
   ]
  },
  {
   "attachments": {},
   "cell_type": "markdown",
   "metadata": {},
   "source": [
    "Initalize a model"
   ]
  },
  {
   "cell_type": "code",
   "execution_count": 48,
   "metadata": {},
   "outputs": [
    {
     "name": "stdout",
     "output_type": "stream",
     "text": [
      "Input size:\n",
      "[10, 10, 3]\n",
      "Layer 0 output size: \n",
      "(9, 9, 2)\n",
      "Layer 1 output size: \n",
      "(4, 4, 2)\n",
      "Layer 2 output size: \n",
      "(4, 4, 2)\n",
      "Layer 3 output size: \n",
      "(32,)\n",
      "Layer 4 output size: \n",
      "(10,)\n",
      "Final output size:\n",
      "(10,)\n",
      "Provided output size (should match above):\n",
      "10\n",
      "(Batch dimension not included)\n"
     ]
    }
   ],
   "source": [
    "l = [\n",
    "    init_layers(\"conv\", {\"filter_size\": 2, \"filter_depth\": 3, \"num_filters\": 2}),\n",
    "    init_layers(\"pool\", {\"filter_size\": 2, \"stride\": 2}),\n",
    "    init_layers(\"relu\", {}),\n",
    "    init_layers(\"flatten\", {}),\n",
    "    init_layers(\"linear\", {\"num_in\": 32, \"num_out\": 10}),\n",
    "    init_layers(\"softmax\", {}),\n",
    "]\n",
    "\n",
    "\n",
    "model = init_model(\n",
    "    layers=l, \n",
    "    input_size=[10, 10, 3], \n",
    "    output_size=10, \n",
    "    display=True\n",
    "    )\n"
   ]
  },
  {
   "attachments": {},
   "cell_type": "markdown",
   "metadata": {},
   "source": [
    "Set training parameters"
   ]
  },
  {
   "cell_type": "code",
   "execution_count": 50,
   "metadata": {},
   "outputs": [],
   "source": [
    "learning_rate = 0.01\n",
    "weight_decay = 0\n",
    "batch_size = 2\n",
    "save_file = 'test_model.npz'\n",
    "plot_on = True\n",
    "itr_to_plot = 50\n",
    "numIters = 800\n",
    "\n"
   ]
  },
  {
   "cell_type": "code",
   "execution_count": 51,
   "metadata": {},
   "outputs": [],
   "source": [
    "params = {\n",
    "    \"learning_rate\" :learning_rate, # default 0.01\n",
    "    \"weight_decay\":weight_decay , # default 0.0005\n",
    "    \"batch_size\" : batch_size, # default 128\n",
    "    \"save_file\" : save_file, #default model.npz\n",
    "    \"plot_on\" : plot_on,\n",
    "    \"itr_to_plot\" : itr_to_plot# how many iterations between plots\n",
    "    }\n",
    "\n",
    "\n",
    "# Initialize training parameters\n",
    "# Learning rate\n",
    "lr = params.get(\"learning_rate\", .01)\n",
    "# Weight decay\n",
    "wd = params.get(\"weight_decay\", .0005)\n",
    "# Batch size\n",
    "batch_size = params.get(\"batch_size\", 128)\n",
    "# There is a good chance you will want to save your network model during/after\n",
    "# training. It is up to you where you save and how often you choose to back up\n",
    "# your model. By default the code saves the model in 'model.npz'.\n",
    "save_file = params.get(\"save_file\", 'model.npz')\n",
    "\n",
    "plot = params.get(\"plot_on\", True)\n",
    "itr_plt = params.get(\"itr_to_plot\", 1)\n",
    "\n",
    "# update_params will be passed to your update_weights function.\n",
    "# This allows flexibility in case you want to implement extra features like momentum.\n",
    "update_params = {\"learning_rate\": lr,\n",
    "                    \"weight_decay\": wd }"
   ]
  },
  {
   "attachments": {},
   "cell_type": "markdown",
   "metadata": {},
   "source": [
    "Set up an single input"
   ]
  },
  {
   "cell_type": "code",
   "execution_count": 52,
   "metadata": {},
   "outputs": [],
   "source": [
    "input = np.random.rand(10, 10, 3, 10)\n",
    "label = y_train[0:10]\n",
    "num_inputs = input.shape[-1]\n",
    "loss = np.zeros((numIters,))\n",
    "accuracy = np.zeros((numIters,))"
   ]
  },
  {
   "cell_type": "code",
   "execution_count": 55,
   "metadata": {},
   "outputs": [
    {
     "data": {
      "image/png": "[encoded data removed]",
      "text/plain": [
       "<Figure size 640x480 with 1 Axes>"
      ]
     },
     "metadata": {},
     "output_type": "display_data"
    }
   ],
   "source": [
    "\n",
    "from IPython.display import clear_output\n",
    "\n",
    "for i in range(numIters):\n",
    "    # (1) Select a subset of the input to use as a batch\n",
    "    batch_idx = np.sort(np.random.randint(0, num_inputs, batch_size))\n",
    "    batch_inputs = input[:,:,:, batch_idx]\n",
    "    batch_labels = label[batch_idx]\n",
    "\n",
    "    # (2) Run inference on the batch\n",
    "    output, activations = inference(model, batch_inputs)\n",
    "\n",
    "    # (3.1) Calculate loss\n",
    "    loss[i], dv = loss_crossentropy(output, batch_labels, hyper_params=None, backprop=True)\n",
    "    \n",
    "    # (3.2) Calculate Accuracy\n",
    "    y_hat = np.argmax(output, axis=0)\n",
    "    accuracy[i] = np.sum((y_hat - batch_labels) == 0) / len(batch_labels)\n",
    "    \n",
    "    # (4) Calculate gradients\n",
    "    grads = calc_gradient(model, batch_inputs, activations, dv)\n",
    "\n",
    "    # (5) Update the weights of the model\n",
    "    model = update_weights(model, grads, hyper_params=update_params)\n",
    "\n",
    "    # (6) Monitor the progress of training\n",
    "    # TODO- how to get multiple plots to work here?\n",
    "    # https://stackoverflow.com/questions/70437632/how-can-i-animate-a-matplotlib-plot-from-within-for-loop\n",
    "    if verbose:\n",
    "        print(f\" Fished itr {i} / {numIters}; cost: {loss[i]}, train: {accuracy[i]} val: TBD, lr: {update_params[\"learning_rate\"]}\")\n",
    "\n",
    "    if plot and i % itr_to_plot == 0:\n",
    "        clear_output(wait=True)\n",
    "        plt.plot(range(i+1),loss[:i+1], color=\"red\")\n",
    "        plt.plot(range(i+1), accuracy[:i+1], color=\"green\")\n",
    "        plt.show()\n",
    "\n",
    "# (7) Save your learnt model, using ``np.savez(save_file, **model)``\n",
    "np.savez(save_file, **model)\n",
    "\n",
    "# return model, loss\n",
    "    \n"
   ]
  },
  {
   "cell_type": "code",
   "execution_count": 63,
   "metadata": {},
   "outputs": [],
   "source": [
    "avg_grad = grads.copy()"
   ]
  },
  {
   "cell_type": "code",
   "execution_count": 67,
   "metadata": {},
   "outputs": [
    {
     "data": {
      "text/plain": [
       "array([[[[ 1.63247255e-02, -2.25070802e-03],\n",
       "         [ 7.70791421e-03,  2.52487983e-03],\n",
       "         [-1.03059786e-02,  4.33848167e-03]],\n",
       "\n",
       "        [[-1.92916159e-02, -1.00397624e-02],\n",
       "         [ 1.29617768e-02, -5.28032550e-03],\n",
       "         [ 3.61902611e-03, -8.80956977e-03]]],\n",
       "\n",
       "\n",
       "       [[[-6.95066580e-03, -1.69829790e-02],\n",
       "         [-6.05965994e-03, -4.28087344e-03],\n",
       "         [ 6.36053330e-03, -3.24840463e-03]],\n",
       "\n",
       "        [[-1.30393825e-02, -5.75623962e-03],\n",
       "         [-1.63315719e-02, -4.02932532e-03],\n",
       "         [ 1.87584642e-03,  1.44985227e-05]]]])"
      ]
     },
     "execution_count": 67,
     "metadata": {},
     "output_type": "execute_result"
    }
   ],
   "source": [
    "avg_grad[0]['W']"
   ]
  }
 ],
 "metadata": {
  "kernelspec": {
   "display_name": "cos429_A3_2",
   "language": "python",
   "name": "python3"
  },
  "language_info": {
   "codemirror_mode": {
    "name": "ipython",
    "version": 3
   },
   "file_extension": ".py",
   "mimetype": "text/x-python",
   "name": "python",
   "nbconvert_exporter": "python",
   "pygments_lexer": "ipython3",
   "version": "3.7.16"
  },
  "orig_nbformat": 4
 },
 "nbformat": 4,
 "nbformat_minor": 2
}
