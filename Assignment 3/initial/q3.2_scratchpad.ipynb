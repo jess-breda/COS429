{
 "cells": [
  {
   "cell_type": "code",
   "execution_count": 113,
   "metadata": {},
   "outputs": [
    {
     "name": "stdout",
     "output_type": "stream",
     "text": [
      "The autoreload extension is already loaded. To reload it, use:\n",
      "  %reload_ext autoreload\n"
     ]
    }
   ],
   "source": [
    "import sys\n",
    "sys.path += ['layers']\n",
    "import numpy as np\n",
    "from init_layers import init_layers\n",
    "from init_model import init_model\n",
    "from inference import inference\n",
    "from loss_euclidean import loss_euclidean\n",
    "from data_utils import get_CIFAR10_data\n",
    "\n",
    "import pickle\n",
    "import matplotlib.pyplot as plt\n",
    "\n",
    "use_pcode = True\n",
    "if use_pcode:\n",
    "    # import the provided pyc implementation\n",
    "    sys.path += ['pyc_code']\n",
    "    from inference_ import inference\n",
    "    from calc_gradient_ import calc_gradient\n",
    "    from update_weights_ import update_weights\n",
    "else:\n",
    "    # import your own implementation\n",
    "    from inference import inference\n",
    "    from calc_gradient import calc_gradient\n",
    "    from update_weights import update_weights\n",
    "\n",
    "%load_ext autoreload\n",
    "%autoreload 2"
   ]
  },
  {
   "cell_type": "code",
   "execution_count": 6,
   "metadata": {},
   "outputs": [
    {
     "name": "stdout",
     "output_type": "stream",
     "text": [
      "Train data shape:  (32, 32, 3, 50000)\n",
      "Train labels shape:  (50000,)\n",
      "Test data shape:  (32, 32, 3, 10000)\n",
      "Test labels shape:  (10000,)\n"
     ]
    }
   ],
   "source": [
    "X_train, y_train, X_test, y_test = get_CIFAR10_data()"
   ]
  },
  {
   "cell_type": "code",
   "execution_count": 8,
   "metadata": {},
   "outputs": [
    {
     "name": "stderr",
     "output_type": "stream",
     "text": [
      "Clipping input data to the valid range for imshow with RGB data ([0..1] for floats or [0..255] for integers).\n"
     ]
    },
    {
     "name": "stdout",
     "output_type": "stream",
     "text": [
      "9\n"
     ]
    },
    {
     "data": {
      "image/png": "[encoded data removed]",
      "text/plain": [
       "<Figure size 432x288 with 1 Axes>"
      ]
     },
     "metadata": {
      "needs_background": "light"
     },
     "output_type": "display_data"
    }
   ],
   "source": [
    "img = 1\n",
    "plt.imshow(X_train[:,:,:,img])\n",
    "print(y_train[img])"
   ]
  },
  {
   "attachments": {},
   "cell_type": "markdown",
   "metadata": {},
   "source": [
    "Simple example with linear function. Note shapes aren't correct to do backprop"
   ]
  },
  {
   "cell_type": "code",
   "execution_count": 34,
   "metadata": {},
   "outputs": [],
   "source": [
    "from fn_linear_ import fn_linear\n",
    "linear = init_layers(\"linear\", {\"num_in\": 32, \"num_out\": 10})"
   ]
  },
  {
   "cell_type": "code",
   "execution_count": 35,
   "metadata": {},
   "outputs": [
    {
     "data": {
      "text/plain": [
       "dict_keys(['fwd_fn', 'type', 'params', 'hyper_params'])"
      ]
     },
     "execution_count": 35,
     "metadata": {},
     "output_type": "execute_result"
    }
   ],
   "source": [
    "linear.keys()"
   ]
  },
  {
   "cell_type": "code",
   "execution_count": 38,
   "metadata": {},
   "outputs": [
    {
     "data": {
      "text/plain": [
       "<function fn_linear_.fn_linear(input, params, hyper_params, backprop, dv_output=None)>"
      ]
     },
     "execution_count": 38,
     "metadata": {},
     "output_type": "execute_result"
    }
   ],
   "source": [
    "linear['fwd_fn']"
   ]
  },
  {
   "cell_type": "code",
   "execution_count": 32,
   "metadata": {},
   "outputs": [
    {
     "data": {
      "text/plain": [
       "{'num_in': 32, 'num_out': 10}"
      ]
     },
     "execution_count": 32,
     "metadata": {},
     "output_type": "execute_result"
    }
   ],
   "source": [
    "linear['hyper_params']"
   ]
  },
  {
   "cell_type": "code",
   "execution_count": 46,
   "metadata": {},
   "outputs": [],
   "source": [
    "x = np.random.randn(32,1)"
   ]
  },
  {
   "cell_type": "code",
   "execution_count": 29,
   "metadata": {},
   "outputs": [
    {
     "data": {
      "text/plain": [
       "(10, 1)"
      ]
     },
     "execution_count": 29,
     "metadata": {},
     "output_type": "execute_result"
    }
   ],
   "source": [
    "W = linear['params']['W'].shape\n",
    "b = linear['params']['b'].shape"
   ]
  },
  {
   "cell_type": "code",
   "execution_count": 30,
   "metadata": {},
   "outputs": [
    {
     "data": {
      "text/plain": [
       "(32, 10, 1)"
      ]
     },
     "execution_count": 30,
     "metadata": {},
     "output_type": "execute_result"
    }
   ],
   "source": [
    "y = linear['params']['W'] @ x + linear['params']['b']\n",
    "y.shape"
   ]
  },
  {
   "cell_type": "code",
   "execution_count": 58,
   "metadata": {},
   "outputs": [
    {
     "data": {
      "text/plain": [
       "(array([[ 0.05682721],\n",
       "        [-0.31463083],\n",
       "        [ 1.17901568],\n",
       "        [-0.2993785 ],\n",
       "        [ 0.11107539],\n",
       "        [-0.65765187],\n",
       "        [ 0.08772662],\n",
       "        [-0.62991493],\n",
       "        [-1.04966365],\n",
       "        [ 0.6350179 ]]),\n",
       " array([], dtype=float64),\n",
       " {'W': array([], dtype=float64), 'b': array([], dtype=float64)})"
      ]
     },
     "execution_count": 58,
     "metadata": {},
     "output_type": "execute_result"
    }
   ],
   "source": [
    "linear['fwd_fn'](x, linear['params'], linear['hyper_params'],backprop=False)"
   ]
  },
  {
   "attachments": {},
   "cell_type": "markdown",
   "metadata": {},
   "source": [
    "### Initializing a model\n",
    "\n",
    "Basic size and content information can be seen below for each layer in the model. When the layer is initialized, the weights are also initialized for that layer.\n"
   ]
  },
  {
   "cell_type": "code",
   "execution_count": 114,
   "metadata": {},
   "outputs": [],
   "source": [
    "l = [\n",
    "    init_layers(\"conv\", {\"filter_size\": 2, \"filter_depth\": 3, \"num_filters\": 2}),\n",
    "    init_layers(\"pool\", {\"filter_size\": 2, \"stride\": 2}),\n",
    "    init_layers(\"relu\", {}),\n",
    "    init_layers(\"flatten\", {}),\n",
    "    init_layers(\"linear\", {\"num_in\": 32, \"num_out\": 10}),\n",
    "    init_layers(\"softmax\", {}),\n",
    "]"
   ]
  },
  {
   "cell_type": "code",
   "execution_count": 64,
   "metadata": {},
   "outputs": [
    {
     "data": {
      "text/plain": [
       "dict_keys(['fwd_fn', 'type', 'params', 'hyper_params'])"
      ]
     },
     "execution_count": 64,
     "metadata": {},
     "output_type": "execute_result"
    }
   ],
   "source": [
    "l[0].keys()"
   ]
  },
  {
   "cell_type": "code",
   "execution_count": 62,
   "metadata": {},
   "outputs": [
    {
     "name": "stdout",
     "output_type": "stream",
     "text": [
      "layer type: conv\n",
      "layer type: pool\n",
      "layer type: relu\n",
      "layer type: flatten\n",
      "layer type: linear\n",
      "layer type: softmax\n"
     ]
    }
   ],
   "source": [
    "for layer in l:\n",
    "    print(f\"layer type: {layer['type']}\")"
   ]
  },
  {
   "cell_type": "code",
   "execution_count": 65,
   "metadata": {},
   "outputs": [
    {
     "name": "stdout",
     "output_type": "stream",
     "text": [
      "layer type: <function fn_conv at 0x000002D8BBA638B8>\n",
      "layer type: <function fn_pool at 0x000002D8AC7433A8>\n",
      "layer type: <function fn_relu at 0x000002D8AC733D38>\n",
      "layer type: <function fn_flatten at 0x000002D89E2A4318>\n",
      "layer type: <function fn_linear at 0x000002D8AC87EEE8>\n",
      "layer type: <function fn_softmax at 0x000002D8AC802F78>\n"
     ]
    }
   ],
   "source": [
    "for layer in l:\n",
    "    print(f\"layer type: {layer['fwd_fn']}\")"
   ]
  },
  {
   "cell_type": "code",
   "execution_count": 66,
   "metadata": {},
   "outputs": [
    {
     "name": "stdout",
     "output_type": "stream",
     "text": [
      "layer params: dict_keys(['W', 'b'])\n",
      "layer params: dict_keys(['W', 'b'])\n",
      "layer params: dict_keys(['W', 'b'])\n",
      "layer params: dict_keys(['W', 'b'])\n",
      "layer params: dict_keys(['W', 'b'])\n",
      "layer params: dict_keys(['W', 'b'])\n"
     ]
    }
   ],
   "source": [
    "for layer in l:\n",
    "    print(f\"layer params: {layer['params'].keys()}\")"
   ]
  },
  {
   "cell_type": "code",
   "execution_count": 67,
   "metadata": {},
   "outputs": [
    {
     "name": "stdout",
     "output_type": "stream",
     "text": [
      "layer params: dict_keys(['filter_size', 'filter_depth', 'num_filters'])\n",
      "layer params: dict_keys(['filter_size', 'stride'])\n",
      "layer params: dict_keys([])\n",
      "layer params: dict_keys([])\n",
      "layer params: dict_keys(['num_in', 'num_out'])\n",
      "layer params: dict_keys([])\n"
     ]
    }
   ],
   "source": [
    "for layer in l:\n",
    "    print(f\"layer params: {layer['hyper_params'].keys()}\")"
   ]
  },
  {
   "attachments": {},
   "cell_type": "markdown",
   "metadata": {},
   "source": [
    "Now lets initialize a model with these layers."
   ]
  },
  {
   "cell_type": "code",
   "execution_count": 74,
   "metadata": {},
   "outputs": [
    {
     "name": "stdout",
     "output_type": "stream",
     "text": [
      "Input size:\n",
      "[10, 10, 3]\n",
      "Layer 0 output size: \n",
      "(9, 9, 2)\n",
      "Layer 1 output size: \n",
      "(4, 4, 2)\n",
      "Layer 2 output size: \n",
      "(4, 4, 2)\n",
      "Layer 3 output size: \n",
      "(32,)\n",
      "Layer 4 output size: \n",
      "(10,)\n",
      "Final output size:\n",
      "(10,)\n",
      "Provided output size (should match above):\n",
      "10\n",
      "(Batch dimension not included)\n"
     ]
    }
   ],
   "source": [
    "model = init_model(\n",
    "    layers=l,\n",
    "    input_size=[10,10,3], # does not include batches only [H,W,D] \n",
    "    output_size=10, \n",
    "    display=True\n",
    "    )"
   ]
  },
  {
   "cell_type": "code",
   "execution_count": 75,
   "metadata": {},
   "outputs": [
    {
     "data": {
      "text/plain": [
       "dict_keys(['layers', 'input_size', 'output_size'])"
      ]
     },
     "execution_count": 75,
     "metadata": {},
     "output_type": "execute_result"
    }
   ],
   "source": [
    "model.keys()"
   ]
  },
  {
   "cell_type": "code",
   "execution_count": 91,
   "metadata": {},
   "outputs": [
    {
     "name": "stdout",
     "output_type": "stream",
     "text": [
      "layer 0 dict: dict_keys(['fwd_fn', 'type', 'params', 'hyper_params'])\n",
      "input size: [10, 10, 3]\n",
      "output size: 10\n"
     ]
    }
   ],
   "source": [
    "layer_n = 0\n",
    "print(f\"layer {layer_n} dict: {model['layers'][layer_n].keys()}\")\n",
    "print(f\"input size: {model['input_size']}\")\n",
    "print(f\"output size: {model['output_size']}\")"
   ]
  },
  {
   "attachments": {},
   "cell_type": "markdown",
   "metadata": {},
   "source": [
    "### Run Inference (Forward pass)"
   ]
  },
  {
   "cell_type": "code",
   "execution_count": 116,
   "metadata": {},
   "outputs": [],
   "source": [
    "                 # [H, W, Channels, Batch]\n",
    "inp = np.random.rand(10, 10, 3, 4)  # Dummy input"
   ]
  },
  {
   "cell_type": "code",
   "execution_count": 117,
   "metadata": {},
   "outputs": [],
   "source": [
    "output, activations = inference(model, inp)"
   ]
  },
  {
   "cell_type": "code",
   "execution_count": 118,
   "metadata": {},
   "outputs": [
    {
     "name": "stdout",
     "output_type": "stream",
     "text": [
      "output size: (10, 4)\n",
      "layer 0 activation shape (9, 9, 2, 4)\n",
      "layer 1 activation shape (4, 4, 2, 4)\n",
      "layer 2 activation shape (4, 4, 2, 4)\n",
      "layer 3 activation shape (32, 4)\n",
      "layer 4 activation shape (10, 4)\n",
      "layer 5 activation shape (10, 4)\n"
     ]
    }
   ],
   "source": [
    "print(f\"output size: {output.shape}\")\n",
    "\n",
    "for ilayer, act in enumerate(activations):\n",
    "    print(f\"layer {ilayer} activation shape {act.shape}\")"
   ]
  },
  {
   "attachments": {},
   "cell_type": "markdown",
   "metadata": {},
   "source": [
    "### Calculate loss"
   ]
  },
  {
   "attachments": {},
   "cell_type": "markdown",
   "metadata": {},
   "source": [
    "Stopping here- need to think about how to calcuate loss across a batch wrt to averaging"
   ]
  },
  {
   "cell_type": "code",
   "execution_count": 119,
   "metadata": {},
   "outputs": [
    {
     "data": {
      "text/plain": [
       "(10, 4)"
      ]
     },
     "execution_count": 119,
     "metadata": {},
     "output_type": "execute_result"
    }
   ],
   "source": [
    "output.shape"
   ]
  },
  {
   "attachments": {},
   "cell_type": "markdown",
   "metadata": {},
   "source": [
    "### Calculate Gradient"
   ]
  },
  {
   "cell_type": "code",
   "execution_count": null,
   "metadata": {},
   "outputs": [],
   "source": [
    "# calc_gradient(model, inp, activations,)"
   ]
  },
  {
   "cell_type": "code",
   "execution_count": null,
   "metadata": {},
   "outputs": [],
   "source": []
  },
  {
   "cell_type": "code",
   "execution_count": null,
   "metadata": {},
   "outputs": [],
   "source": []
  }
 ],
 "metadata": {
  "kernelspec": {
   "display_name": "cos429_A3",
   "language": "python",
   "name": "python3"
  },
  "language_info": {
   "codemirror_mode": {
    "name": "ipython",
    "version": 3
   },
   "file_extension": ".py",
   "mimetype": "text/x-python",
   "name": "python",
   "nbconvert_exporter": "python",
   "pygments_lexer": "ipython3",
   "version": "3.7.16"
  },
  "orig_nbformat": 4
 },
 "nbformat": 4,
 "nbformat_minor": 2
}
